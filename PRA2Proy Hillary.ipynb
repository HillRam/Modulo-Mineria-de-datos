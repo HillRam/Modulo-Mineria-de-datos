{
 "cells": [
  {
   "cell_type": "code",
   "execution_count": 1,
   "metadata": {},
   "outputs": [],
   "source": [
    "import pandas as pd\n",
    "import missingno as msno\n",
    "import numpy as np\n",
    "%matplotlib inline"
   ]
  },
  {
   "cell_type": "code",
   "execution_count": 2,
   "metadata": {},
   "outputs": [],
   "source": [
    "file =\"/Users/hillaryram/Downloads/19000-spotify-songs/song_data2.csv\""
   ]
  },
  {
   "cell_type": "code",
   "execution_count": 3,
   "metadata": {},
   "outputs": [],
   "source": [
    "df = pd.read_csv(file)"
   ]
  },
  {
   "cell_type": "code",
   "execution_count": 4,
   "metadata": {},
   "outputs": [
    {
     "data": {
      "text/html": [
       "<div>\n",
       "<style scoped>\n",
       "    .dataframe tbody tr th:only-of-type {\n",
       "        vertical-align: middle;\n",
       "    }\n",
       "\n",
       "    .dataframe tbody tr th {\n",
       "        vertical-align: top;\n",
       "    }\n",
       "\n",
       "    .dataframe thead th {\n",
       "        text-align: right;\n",
       "    }\n",
       "</style>\n",
       "<table border=\"1\" class=\"dataframe\">\n",
       "  <thead>\n",
       "    <tr style=\"text-align: right;\">\n",
       "      <th></th>\n",
       "      <th>song_name</th>\n",
       "      <th>song_popularity</th>\n",
       "      <th>song_duration_ms</th>\n",
       "      <th>acousticness</th>\n",
       "      <th>danceability</th>\n",
       "      <th>energy</th>\n",
       "      <th>instrumentalness</th>\n",
       "      <th>key</th>\n",
       "      <th>liveness</th>\n",
       "      <th>loudness</th>\n",
       "      <th>audio_mode</th>\n",
       "      <th>speechiness</th>\n",
       "      <th>tempo</th>\n",
       "      <th>time_signature</th>\n",
       "      <th>audio_valence</th>\n",
       "    </tr>\n",
       "  </thead>\n",
       "  <tbody>\n",
       "    <tr>\n",
       "      <th>0</th>\n",
       "      <td>Boulevard of Broken Dreams</td>\n",
       "      <td>73</td>\n",
       "      <td>262333</td>\n",
       "      <td>0.005520</td>\n",
       "      <td>0.496</td>\n",
       "      <td>0.682</td>\n",
       "      <td>0.000029</td>\n",
       "      <td>8</td>\n",
       "      <td>0.0589</td>\n",
       "      <td>-4.095</td>\n",
       "      <td>1</td>\n",
       "      <td>0.0294</td>\n",
       "      <td>167.060</td>\n",
       "      <td>4</td>\n",
       "      <td>0.474</td>\n",
       "    </tr>\n",
       "    <tr>\n",
       "      <th>1</th>\n",
       "      <td>In The End</td>\n",
       "      <td>66</td>\n",
       "      <td>216933</td>\n",
       "      <td>0.010300</td>\n",
       "      <td>0.542</td>\n",
       "      <td>0.853</td>\n",
       "      <td>0.000000</td>\n",
       "      <td>3</td>\n",
       "      <td>0.1080</td>\n",
       "      <td>-6.407</td>\n",
       "      <td>0</td>\n",
       "      <td>0.0498</td>\n",
       "      <td>105.256</td>\n",
       "      <td>4</td>\n",
       "      <td>0.370</td>\n",
       "    </tr>\n",
       "    <tr>\n",
       "      <th>2</th>\n",
       "      <td>Seven Nation Army</td>\n",
       "      <td>76</td>\n",
       "      <td>231733</td>\n",
       "      <td>0.008170</td>\n",
       "      <td>0.737</td>\n",
       "      <td>0.463</td>\n",
       "      <td>0.447000</td>\n",
       "      <td>0</td>\n",
       "      <td>0.2550</td>\n",
       "      <td>-7.828</td>\n",
       "      <td>1</td>\n",
       "      <td>0.0792</td>\n",
       "      <td>123.881</td>\n",
       "      <td>4</td>\n",
       "      <td>0.324</td>\n",
       "    </tr>\n",
       "    <tr>\n",
       "      <th>3</th>\n",
       "      <td>By The Way</td>\n",
       "      <td>74</td>\n",
       "      <td>216933</td>\n",
       "      <td>0.026400</td>\n",
       "      <td>0.451</td>\n",
       "      <td>0.970</td>\n",
       "      <td>0.003550</td>\n",
       "      <td>0</td>\n",
       "      <td>0.1020</td>\n",
       "      <td>-4.938</td>\n",
       "      <td>1</td>\n",
       "      <td>0.1070</td>\n",
       "      <td>122.444</td>\n",
       "      <td>4</td>\n",
       "      <td>0.198</td>\n",
       "    </tr>\n",
       "    <tr>\n",
       "      <th>4</th>\n",
       "      <td>How You Remind Me</td>\n",
       "      <td>56</td>\n",
       "      <td>223826</td>\n",
       "      <td>0.000954</td>\n",
       "      <td>0.447</td>\n",
       "      <td>0.766</td>\n",
       "      <td>0.000000</td>\n",
       "      <td>10</td>\n",
       "      <td>0.1130</td>\n",
       "      <td>-5.065</td>\n",
       "      <td>1</td>\n",
       "      <td>0.0313</td>\n",
       "      <td>172.011</td>\n",
       "      <td>4</td>\n",
       "      <td>0.574</td>\n",
       "    </tr>\n",
       "  </tbody>\n",
       "</table>\n",
       "</div>"
      ],
      "text/plain": [
       "                    song_name  song_popularity  song_duration_ms  \\\n",
       "0  Boulevard of Broken Dreams               73            262333   \n",
       "1                  In The End               66            216933   \n",
       "2           Seven Nation Army               76            231733   \n",
       "3                  By The Way               74            216933   \n",
       "4           How You Remind Me               56            223826   \n",
       "\n",
       "   acousticness  danceability  energy  instrumentalness  key  liveness  \\\n",
       "0      0.005520         0.496   0.682          0.000029    8    0.0589   \n",
       "1      0.010300         0.542   0.853          0.000000    3    0.1080   \n",
       "2      0.008170         0.737   0.463          0.447000    0    0.2550   \n",
       "3      0.026400         0.451   0.970          0.003550    0    0.1020   \n",
       "4      0.000954         0.447   0.766          0.000000   10    0.1130   \n",
       "\n",
       "   loudness  audio_mode  speechiness    tempo  time_signature  audio_valence  \n",
       "0    -4.095           1       0.0294  167.060               4          0.474  \n",
       "1    -6.407           0       0.0498  105.256               4          0.370  \n",
       "2    -7.828           1       0.0792  123.881               4          0.324  \n",
       "3    -4.938           1       0.1070  122.444               4          0.198  \n",
       "4    -5.065           1       0.0313  172.011               4          0.574  "
      ]
     },
     "execution_count": 4,
     "metadata": {},
     "output_type": "execute_result"
    }
   ],
   "source": [
    "df.head()"
   ]
  },
  {
   "cell_type": "code",
   "execution_count": 5,
   "metadata": {},
   "outputs": [],
   "source": [
    "df_copy = df.copy()"
   ]
  },
  {
   "cell_type": "code",
   "execution_count": 6,
   "metadata": {},
   "outputs": [
    {
     "data": {
      "text/plain": [
       "(18835, 15)"
      ]
     },
     "execution_count": 6,
     "metadata": {},
     "output_type": "execute_result"
    }
   ],
   "source": [
    "df_copy.shape"
   ]
  },
  {
   "cell_type": "code",
   "execution_count": 7,
   "metadata": {},
   "outputs": [
    {
     "data": {
      "text/plain": [
       "18835"
      ]
     },
     "execution_count": 7,
     "metadata": {},
     "output_type": "execute_result"
    }
   ],
   "source": [
    "df_copy.shape[0]"
   ]
  },
  {
   "cell_type": "code",
   "execution_count": 8,
   "metadata": {},
   "outputs": [
    {
     "data": {
      "text/plain": [
       "15"
      ]
     },
     "execution_count": 8,
     "metadata": {},
     "output_type": "execute_result"
    }
   ],
   "source": [
    "df_copy.shape[1]"
   ]
  },
  {
   "cell_type": "code",
   "execution_count": 9,
   "metadata": {},
   "outputs": [
    {
     "data": {
      "text/plain": [
       "Index([u'song_name', u'song_popularity', u'song_duration_ms', u'acousticness',\n",
       "       u'danceability', u'energy', u'instrumentalness', u'key', u'liveness',\n",
       "       u'loudness', u'audio_mode', u'speechiness', u'tempo', u'time_signature',\n",
       "       u'audio_valence'],\n",
       "      dtype='object')"
      ]
     },
     "execution_count": 9,
     "metadata": {},
     "output_type": "execute_result"
    }
   ],
   "source": [
    "df_copy.columns"
   ]
  },
  {
   "cell_type": "code",
   "execution_count": 10,
   "metadata": {},
   "outputs": [
    {
     "data": {
      "text/plain": [
       "['song_name',\n",
       " 'song_popularity',\n",
       " 'song_duration_ms',\n",
       " 'acousticness',\n",
       " 'danceability',\n",
       " 'energy',\n",
       " 'instrumentalness',\n",
       " 'key',\n",
       " 'liveness',\n",
       " 'loudness',\n",
       " 'audio_mode',\n",
       " 'speechiness',\n",
       " 'tempo',\n",
       " 'time_signature',\n",
       " 'audio_valence']"
      ]
     },
     "execution_count": 10,
     "metadata": {},
     "output_type": "execute_result"
    }
   ],
   "source": [
    "list(df_copy.columns)"
   ]
  },
  {
   "cell_type": "code",
   "execution_count": 12,
   "metadata": {},
   "outputs": [
    {
     "data": {
      "text/plain": [
       "Better                                              21\n",
       "FEFE (feat. Nicki Minaj & Murda Beatz)              19\n",
       "MIA (feat. Drake)                                   18\n",
       "Taki Taki (with Selena Gomez, Ozuna & Cardi B)      18\n",
       "No Stylist                                          17\n",
       "Electricity (with Dua Lipa)                         16\n",
       "I Love It (& Lil Pump)                              16\n",
       "Promises (with Sam Smith)                           16\n",
       "Sunflower - Spider-Man: Into the Spider-Verse       16\n",
       "Mo Bamba                                            16\n",
       "Lullaby                                             15\n",
       "Fall                                                14\n",
       "Happier                                             14\n",
       "ZEZE (feat. Travis Scott & Offset)                  14\n",
       "Wake Up in the Sky                                  14\n",
       "Love Someone                                        14\n",
       "Be Alright                                          14\n",
       "This Feeling                                        13\n",
       "SICKO MODE                                          13\n",
       "Without Me                                          13\n",
       "STOOPID                                             13\n",
       "Noticed                                             13\n",
       "I Like It                                           13\n",
       "Falling Down                                        12\n",
       "Lucky You (feat. Joyner Lucas)                      12\n",
       "You Say                                             12\n",
       "Tints (feat. Kendrick Lamar)                        12\n",
       "REEL IT IN                                          12\n",
       "Let You Love Me                                     12\n",
       "Natural                                             12\n",
       "                                                    ..\n",
       "Never Comin Down                                     1\n",
       "Used to This                                         1\n",
       "Under Pressure - Remastered                          1\n",
       "Inolvidable                                          1\n",
       "Ordinary World                                       1\n",
       "Resistance                                           1\n",
       "The Fireman                                          1\n",
       "lostinadream                                         1\n",
       "No Soy Tu Marido                                     1\n",
       "Sign of the Times                                    1\n",
       "Ready For Your Love                                  1\n",
       "I Don't Know                                         1\n",
       "1960 What?                                           1\n",
       "I Am The Champion                                    1\n",
       "Dagger Jacker                                        1\n",
       "Dream - Acoustic                                     1\n",
       "Reet Petite                                          1\n",
       "Solsbury Hill                                        1\n",
       "Mortal Thought                                       1\n",
       "Blood Diamonds                                       1\n",
       "Dile a Ella                                          1\n",
       "Might Die Young (feat. Olivia O'Brien & Tinashe)     1\n",
       "Above The Clouds - Feat. Inspectah Deck              1\n",
       "Recrd                                                1\n",
       "Drill It In My Brain                                 1\n",
       "Cerca del Mar                                        1\n",
       "Buffalo Gals                                         1\n",
       "Washing Away                                         1\n",
       "Single White Female                                  1\n",
       "Stockholm Skies (feat. Tom Taped & Alex Aris)        1\n",
       "Name: song_name, Length: 13070, dtype: int64"
      ]
     },
     "execution_count": 12,
     "metadata": {},
     "output_type": "execute_result"
    }
   ],
   "source": [
    "df_copy['song_name'].value_counts()"
   ]
  },
  {
   "cell_type": "code",
   "execution_count": 13,
   "metadata": {},
   "outputs": [
    {
     "data": {
      "text/plain": [
       "array(['Boulevard of Broken Dreams', 'In The End', 'Seven Nation Army',\n",
       "       ..., 'Sudden Love (Acoustic)', 'Gentle on My Mind', 'Up to Me'],\n",
       "      dtype=object)"
      ]
     },
     "execution_count": 13,
     "metadata": {},
     "output_type": "execute_result"
    }
   ],
   "source": [
    "df_copy['song_name'].unique()"
   ]
  },
  {
   "cell_type": "code",
   "execution_count": 14,
   "metadata": {},
   "outputs": [
    {
     "name": "stdout",
     "output_type": "stream",
     "text": [
      "('COLUMNA: ', 'song_name')\n",
      "('TIPO: ', 'otro')\n",
      "('NUNIQUE: ', 13070)\n",
      "('UNIQUE: ', array(['Boulevard of Broken Dreams', 'In The End', 'Seven Nation Army',\n",
      "       ..., 'Sudden Love (Acoustic)', 'Gentle on My Mind', 'Up to Me'],\n",
      "      dtype=object))\n",
      "('VALUE COUNTS ', Better                                              21\n",
      "FEFE (feat. Nicki Minaj & Murda Beatz)              19\n",
      "MIA (feat. Drake)                                   18\n",
      "Taki Taki (with Selena Gomez, Ozuna & Cardi B)      18\n",
      "No Stylist                                          17\n",
      "Electricity (with Dua Lipa)                         16\n",
      "I Love It (& Lil Pump)                              16\n",
      "Promises (with Sam Smith)                           16\n",
      "Sunflower - Spider-Man: Into the Spider-Verse       16\n",
      "Mo Bamba                                            16\n",
      "Lullaby                                             15\n",
      "Fall                                                14\n",
      "Happier                                             14\n",
      "ZEZE (feat. Travis Scott & Offset)                  14\n",
      "Wake Up in the Sky                                  14\n",
      "Love Someone                                        14\n",
      "Be Alright                                          14\n",
      "This Feeling                                        13\n",
      "SICKO MODE                                          13\n",
      "Without Me                                          13\n",
      "STOOPID                                             13\n",
      "Noticed                                             13\n",
      "I Like It                                           13\n",
      "Falling Down                                        12\n",
      "Lucky You (feat. Joyner Lucas)                      12\n",
      "You Say                                             12\n",
      "Tints (feat. Kendrick Lamar)                        12\n",
      "REEL IT IN                                          12\n",
      "Let You Love Me                                     12\n",
      "Natural                                             12\n",
      "                                                    ..\n",
      "Never Comin Down                                     1\n",
      "Used to This                                         1\n",
      "Under Pressure - Remastered                          1\n",
      "Inolvidable                                          1\n",
      "Ordinary World                                       1\n",
      "Resistance                                           1\n",
      "The Fireman                                          1\n",
      "lostinadream                                         1\n",
      "No Soy Tu Marido                                     1\n",
      "Sign of the Times                                    1\n",
      "Ready For Your Love                                  1\n",
      "I Don't Know                                         1\n",
      "1960 What?                                           1\n",
      "I Am The Champion                                    1\n",
      "Dagger Jacker                                        1\n",
      "Dream - Acoustic                                     1\n",
      "Reet Petite                                          1\n",
      "Solsbury Hill                                        1\n",
      "Mortal Thought                                       1\n",
      "Blood Diamonds                                       1\n",
      "Dile a Ella                                          1\n",
      "Might Die Young (feat. Olivia O'Brien & Tinashe)     1\n",
      "Above The Clouds - Feat. Inspectah Deck              1\n",
      "Recrd                                                1\n",
      "Drill It In My Brain                                 1\n",
      "Cerca del Mar                                        1\n",
      "Buffalo Gals                                         1\n",
      "Washing Away                                         1\n",
      "Single White Female                                  1\n",
      "Stockholm Skies (feat. Tom Taped & Alex Aris)        1\n",
      "Name: song_name, Length: 13070, dtype: int64)\n",
      "\n",
      "\n",
      "('COLUMNA: ', 'song_popularity')\n",
      "('TIPO: ', 'entero')\n",
      "('NUNIQUE: ', 101)\n",
      "('UNIQUE: ', array([ 73,  66,  76,  74,  56,  80,  81,  78,  63,  75,  69,  77,  71,\n",
      "        62,  79,  13,  28,  11,  65,  70,  60,  72,  57,  64,  61,  67,\n",
      "        94,  98,  59,  87,  85,  58,  92,  83,  44,  47,  54,  49,  52,\n",
      "        95,  45,  38,  46,  53,  39,  88,  68,  37,  43,  84,  40,  41,\n",
      "        10,  31,  48,  24,  29,  51,   4,   7,  50,  42,  30,  21,  55,\n",
      "        14,  33,   8,  16,  34,  26,  15,  19,   5,   3,  22,  36,  32,\n",
      "        35,   9,  82,  25,  86,  12,  18,  27,  17,   6,  20,   0,  90,\n",
      "        93,  91,  89,  99,  97,  96,   1,   2,  23, 100]))\n",
      "('VALUE COUNTS ', 58     404\n",
      "52     389\n",
      "55     388\n",
      "60     383\n",
      "63     378\n",
      "62     370\n",
      "64     364\n",
      "65     364\n",
      "61     360\n",
      "69     359\n",
      "53     358\n",
      "51     357\n",
      "66     353\n",
      "70     351\n",
      "54     348\n",
      "56     343\n",
      "59     338\n",
      "50     336\n",
      "72     335\n",
      "49     333\n",
      "68     333\n",
      "73     328\n",
      "71     317\n",
      "48     316\n",
      "57     316\n",
      "67     306\n",
      "47     302\n",
      "75     281\n",
      "46     280\n",
      "0      272\n",
      "      ... \n",
      "4       91\n",
      "85      87\n",
      "20      85\n",
      "8       85\n",
      "94      85\n",
      "5       83\n",
      "21      82\n",
      "15      81\n",
      "18      79\n",
      "7       78\n",
      "17      75\n",
      "3       72\n",
      "86      71\n",
      "6       70\n",
      "89      67\n",
      "14      65\n",
      "10      63\n",
      "12      63\n",
      "11      62\n",
      "92      62\n",
      "9       61\n",
      "95      61\n",
      "13      58\n",
      "96      53\n",
      "88      52\n",
      "98      47\n",
      "97      36\n",
      "93      32\n",
      "99      16\n",
      "100     12\n",
      "Name: song_popularity, Length: 101, dtype: int64)\n",
      "\n",
      "\n",
      "('COLUMNA: ', 'song_duration_ms')\n",
      "('TIPO: ', 'entero')\n",
      "('NUNIQUE: ', 11771)\n",
      "('UNIQUE: ', array([262333, 216933, 231733, ..., 182211, 352280, 193533]))\n",
      "('VALUE COUNTS ', 165000    25\n",
      "180000    21\n",
      "212500    20\n",
      "189000    20\n",
      "179404    19\n",
      "210367    18\n",
      "152000    18\n",
      "195000    17\n",
      "192172    17\n",
      "213309    16\n",
      "127946    16\n",
      "238173    16\n",
      "190000    16\n",
      "158053    16\n",
      "225199    14\n",
      "205463    14\n",
      "204664    14\n",
      "196373    14\n",
      "189466    14\n",
      "274693    14\n",
      "269106    13\n",
      "253390    13\n",
      "312820    13\n",
      "180897    13\n",
      "196400    13\n",
      "230000    13\n",
      "199226    12\n",
      "121346    12\n",
      "229412    12\n",
      "214289    12\n",
      "          ..\n",
      "146622     1\n",
      "138426     1\n",
      "265400     1\n",
      "185523     1\n",
      "216240     1\n",
      "271533     1\n",
      "197801     1\n",
      "330920     1\n",
      "195750     1\n",
      "222373     1\n",
      "218275     1\n",
      "226519     1\n",
      "197849     1\n",
      "335066     1\n",
      "224516     1\n",
      "161063     1\n",
      "311440     1\n",
      "187682     1\n",
      "203732     1\n",
      "154898     1\n",
      "302346     1\n",
      "228598     1\n",
      "255205     1\n",
      "224500     1\n",
      "218355     1\n",
      "177391     1\n",
      "337133     1\n",
      "305546     1\n",
      "262450     1\n",
      "214751     1\n",
      "Name: song_duration_ms, Length: 11771, dtype: int64)\n",
      "\n",
      "\n",
      "('COLUMNA: ', 'acousticness')\n",
      "('TIPO: ', 'flotante')\n",
      "('NUNIQUE: ', 1)\n",
      "('UNIQUE: ', array([0]))\n",
      "('VALUE COUNTS ', 0    18835\n",
      "Name: acousticness, dtype: int64)\n",
      "\n",
      "\n",
      "('COLUMNA: ', 'danceability')\n",
      "('TIPO: ', 'flotante')\n",
      "('NUNIQUE: ', 1)\n",
      "('UNIQUE: ', array([0]))\n",
      "('VALUE COUNTS ', 0    18835\n",
      "Name: danceability, dtype: int64)\n",
      "\n",
      "\n",
      "('COLUMNA: ', 'energy')\n",
      "('TIPO: ', 'flotante')\n",
      "('NUNIQUE: ', 1)\n",
      "('UNIQUE: ', array([0]))\n",
      "('VALUE COUNTS ', 0    18835\n",
      "Name: energy, dtype: int64)\n",
      "\n",
      "\n",
      "('COLUMNA: ', 'instrumentalness')\n",
      "('TIPO: ', 'flotante')\n",
      "('NUNIQUE: ', 1)\n",
      "('UNIQUE: ', array([0]))\n",
      "('VALUE COUNTS ', 0    18835\n",
      "Name: instrumentalness, dtype: int64)\n",
      "\n",
      "\n",
      "('COLUMNA: ', 'key')\n",
      "('TIPO: ', 'entero')\n",
      "('NUNIQUE: ', 12)\n",
      "('UNIQUE: ', array([ 8,  3,  0, 10,  4,  2,  1,  9,  7, 11,  5,  6]))\n",
      "('VALUE COUNTS ', 0     2182\n",
      "1     2164\n",
      "7     2032\n",
      "2     1715\n",
      "9     1698\n",
      "11    1600\n",
      "5     1574\n",
      "6     1351\n",
      "8     1349\n",
      "10    1331\n",
      "4     1327\n",
      "3      512\n",
      "Name: key, dtype: int64)\n",
      "\n",
      "\n",
      "('COLUMNA: ', 'liveness')\n",
      "('TIPO: ', 'flotante')\n",
      "('NUNIQUE: ', 1)\n",
      "('UNIQUE: ', array([0]))\n",
      "('VALUE COUNTS ', 0    18835\n",
      "Name: liveness, dtype: int64)\n",
      "\n",
      "\n",
      "('COLUMNA: ', 'loudness')\n",
      "('TIPO: ', 'flotante')\n",
      "('NUNIQUE: ', 39)\n",
      "('UNIQUE: ', array([ -4,  -6,  -7,  -5,  -3,  -8,  -2, -10,  -1,  -9, -17, -12, -13,\n",
      "       -14, -19, -16, -11, -20, -15, -22, -18, -26, -27, -21,   1,   0,\n",
      "       -29, -23, -31, -24, -30, -35, -25, -28, -36, -34, -33, -32, -38]))\n",
      "('VALUE COUNTS ', -5     2904\n",
      "-4     2592\n",
      "-6     2545\n",
      "-7     2061\n",
      "-3     1614\n",
      "-8     1573\n",
      "-9     1221\n",
      "-10     934\n",
      "-11     653\n",
      "-2      622\n",
      "-12     511\n",
      "-13     413\n",
      "-14     275\n",
      "-15     167\n",
      "-1      130\n",
      "-16     125\n",
      "-17      79\n",
      "-18      67\n",
      "-19      57\n",
      "-22      48\n",
      "-21      43\n",
      "-20      41\n",
      "-23      28\n",
      " 0       20\n",
      "-25      17\n",
      "-26      17\n",
      "-24      16\n",
      "-27      13\n",
      "-29      10\n",
      "-28       9\n",
      "-30       8\n",
      "-31       8\n",
      "-33       4\n",
      "-35       3\n",
      "-36       2\n",
      " 1        2\n",
      "-38       1\n",
      "-32       1\n",
      "-34       1\n",
      "Name: loudness, dtype: int64)\n",
      "\n",
      "\n",
      "('COLUMNA: ', 'audio_mode')\n",
      "('TIPO: ', 'entero')\n",
      "('NUNIQUE: ', 2)\n",
      "('UNIQUE: ', array([1, 0]))\n",
      "('VALUE COUNTS ', 1    11831\n",
      "0     7004\n",
      "Name: audio_mode, dtype: int64)\n",
      "\n",
      "\n",
      "('COLUMNA: ', 'speechiness')\n",
      "('TIPO: ', 'flotante')\n",
      "('NUNIQUE: ', 1)\n",
      "('UNIQUE: ', array([0]))\n",
      "('VALUE COUNTS ', 0    18835\n",
      "Name: speechiness, dtype: int64)\n",
      "\n",
      "\n",
      "('COLUMNA: ', 'tempo')\n",
      "('TIPO: ', 'flotante')\n",
      "('NUNIQUE: ', 167)\n",
      "('UNIQUE: ', array([167, 105, 123, 122, 172, 189,  90, 148, 153, 161, 110, 126,  91,\n",
      "       127, 104, 130, 170,  99, 183, 137, 134, 128, 103, 157, 186,  96,\n",
      "       107, 116,  89,  98, 112, 169,  97, 139, 143,  93, 140, 136, 141,\n",
      "        82,  95,  94, 100, 166,  74,  83, 132, 160, 173, 119, 115, 174,\n",
      "       118, 164, 102, 109,  92, 147, 121, 129, 120, 133,  78,  84, 185,\n",
      "       175, 117, 159,  79,  80, 188, 131, 146,  86,  77,  76, 125, 149,\n",
      "       193,  73, 150, 113, 165, 163, 142, 151, 177, 154, 156, 106, 124,\n",
      "       138, 179, 178, 176,  88, 145, 162, 135,  85, 108, 196, 111,  70,\n",
      "       171,  75, 144, 201, 152, 114,  81, 155, 181,  67, 198, 180, 158,\n",
      "        72,  62,  69, 190, 101, 168, 184,  87, 202, 187, 205, 182,  66,\n",
      "        71,  64, 197, 203, 199, 213, 206, 204, 192,  57, 194,  63, 207,\n",
      "       195,  61,  68,  60,  65, 212,  59,  58, 191, 242, 200,  51, 208,\n",
      "        54,   0, 211,  52, 209,  56, 214,  47, 216, 210,  46]))\n",
      "('VALUE COUNTS ', 120    379\n",
      "100    369\n",
      "125    353\n",
      "119    349\n",
      "127    346\n",
      "129    325\n",
      "99     323\n",
      "128    319\n",
      "95     308\n",
      "124    307\n",
      "140    303\n",
      "104    303\n",
      "94     299\n",
      "126    299\n",
      "130    294\n",
      "123    294\n",
      "122    284\n",
      "139    282\n",
      "92     274\n",
      "97     259\n",
      "98     243\n",
      "96     240\n",
      "105    236\n",
      "89     235\n",
      "118    233\n",
      "110    231\n",
      "90     223\n",
      "103    218\n",
      "121    208\n",
      "115    207\n",
      "      ... \n",
      "61      12\n",
      "200     11\n",
      "204     11\n",
      "202     10\n",
      "207      9\n",
      "206      9\n",
      "197      8\n",
      "60       7\n",
      "196      7\n",
      "57       5\n",
      "194      4\n",
      "63       4\n",
      "59       4\n",
      "208      4\n",
      "56       2\n",
      "0        2\n",
      "213      2\n",
      "212      2\n",
      "211      2\n",
      "209      2\n",
      "54       1\n",
      "210      1\n",
      "216      1\n",
      "52       1\n",
      "58       1\n",
      "46       1\n",
      "51       1\n",
      "47       1\n",
      "242      1\n",
      "214      1\n",
      "Name: tempo, Length: 167, dtype: int64)\n",
      "\n",
      "\n",
      "('COLUMNA: ', 'time_signature')\n",
      "('TIPO: ', 'entero')\n",
      "('NUNIQUE: ', 5)\n",
      "('UNIQUE: ', array([4, 3, 1, 5, 0]))\n",
      "('VALUE COUNTS ', 4    17754\n",
      "3      772\n",
      "5      233\n",
      "1       73\n",
      "0        3\n",
      "Name: time_signature, dtype: int64)\n",
      "\n",
      "\n",
      "('COLUMNA: ', 'audio_valence')\n",
      "('TIPO: ', 'flotante')\n",
      "('NUNIQUE: ', 1)\n",
      "('UNIQUE: ', array([0]))\n",
      "('VALUE COUNTS ', 0    18835\n",
      "Name: audio_valence, dtype: int64)\n",
      "\n",
      "\n"
     ]
    }
   ],
   "source": [
    "l = []\n",
    "bandera = np.NAN\n",
    "for column in df_copy.columns:\n",
    "    if df_copy[column].dtype == np.int64:\n",
    "        bandera = 'entero'\n",
    "    elif df_copy[column].dtype == np.float64:\n",
    "        bandera = 'flotante'\n",
    "    else:\n",
    "        bandera = 'otro'\n",
    "        \n",
    "    try:\n",
    "        df_copy[column] =df_copy[column].astype('int64')\n",
    "    except:\n",
    "        l.append(column)\n",
    "        \n",
    "    print('COLUMNA: ', column)\n",
    "    print('TIPO: ', bandera)\n",
    "    print('NUNIQUE: ', df_copy[column].nunique())\n",
    "    print('UNIQUE: ', df_copy[column].unique())\n",
    "    print('VALUE COUNTS ', df_copy[column].value_counts())\n",
    "    print('\\n')"
   ]
  },
  {
   "cell_type": "code",
   "execution_count": 15,
   "metadata": {},
   "outputs": [
    {
     "data": {
      "text/plain": [
       "<matplotlib.axes._subplots.AxesSubplot at 0x1a19c023d0>"
      ]
     },
     "execution_count": 15,
     "metadata": {},
     "output_type": "execute_result"
    },
    {
     "data": {
      "image/png": "[encoded data removed]",
      "text/plain": [
       "<Figure size 1728x720 with 3 Axes>"
      ]
     },
     "metadata": {
      "needs_background": "light"
     },
     "output_type": "display_data"
    }
   ],
   "source": [
    "msno.bar(df_copy)"
   ]
  },
  {
   "cell_type": "code",
   "execution_count": null,
   "metadata": {},
   "outputs": [],
   "source": [
    "##Podemos saltarnos de aqui en adelante porque nuestros datos no contienen nuos y demás."
   ]
  },
  {
   "cell_type": "code",
   "execution_count": null,
   "metadata": {},
   "outputs": [],
   "source": []
  },
  {
   "cell_type": "code",
   "execution_count": null,
   "metadata": {},
   "outputs": [],
   "source": []
  },
  {
   "cell_type": "code",
   "execution_count": null,
   "metadata": {},
   "outputs": [],
   "source": []
  },
  {
   "cell_type": "code",
   "execution_count": null,
   "metadata": {},
   "outputs": [],
   "source": [
    "df_copy.isnull().any().any()"
   ]
  },
  {
   "cell_type": "code",
   "execution_count": null,
   "metadata": {},
   "outputs": [],
   "source": [
    "df_copy.replace(to_replace='&', value=np.nan, inplace=True)"
   ]
  },
  {
   "cell_type": "code",
   "execution_count": null,
   "metadata": {},
   "outputs": [],
   "source": [
    "df_copy.replace(to_replace=' ', value=np.nan, inplace=True)"
   ]
  },
  {
   "cell_type": "code",
   "execution_count": null,
   "metadata": {},
   "outputs": [],
   "source": [
    "df_copy.isnull().any().any()"
   ]
  },
  {
   "cell_type": "code",
   "execution_count": null,
   "metadata": {},
   "outputs": [],
   "source": [
    "msno.bar(df_copy)"
   ]
  },
  {
   "cell_type": "code",
   "execution_count": null,
   "metadata": {},
   "outputs": [],
   "source": [
    "file = 'song_popu.csv'"
   ]
  },
  {
   "cell_type": "code",
   "execution_count": null,
   "metadata": {},
   "outputs": [],
   "source": [
    "df_copy.to_csv(file)"
   ]
  },
  {
   "cell_type": "code",
   "execution_count": null,
   "metadata": {},
   "outputs": [],
   "source": [
    "###limpieza\n",
    "df_copy.fillna(value=-1, inplace=True)"
   ]
  },
  {
   "cell_type": "code",
   "execution_count": null,
   "metadata": {},
   "outputs": [],
   "source": [
    "threshold = round(df_copy.shape[0]*.75)\n",
    "threshold"
   ]
  },
  {
   "cell_type": "code",
   "execution_count": null,
   "metadata": {},
   "outputs": [],
   "source": [
    "l = []\n",
    "for column in df_copy.columns:\n",
    "    na_column =  df_copy[column].value_counts().get(-1)\n",
    "    if(na_column != None):\n",
    "        print(column, ': ', df_copy.shape[0] - na_column, ' - ', threshold)\n",
    "        if (df_copy.shape[0] - na_column < threshold):\n",
    "            print(column, ': ', 'd e l e t e d')\n",
    "            l.append(column)"
   ]
  },
  {
   "cell_type": "code",
   "execution_count": null,
   "metadata": {},
   "outputs": [],
   "source": [
    "l"
   ]
  },
  {
   "cell_type": "code",
   "execution_count": null,
   "metadata": {},
   "outputs": [],
   "source": [
    "df_copy.drop(labels=l, axis=1, inplace=True)"
   ]
  },
  {
   "cell_type": "code",
   "execution_count": null,
   "metadata": {},
   "outputs": [],
   "source": [
    "df_copy.replace(to_replace=-1, value=np.NaN, inplace=True)"
   ]
  },
  {
   "cell_type": "code",
   "execution_count": null,
   "metadata": {},
   "outputs": [],
   "source": [
    "msno.bar(df_copy)"
   ]
  },
  {
   "cell_type": "code",
   "execution_count": null,
   "metadata": {},
   "outputs": [],
   "source": [
    "file = 'songpopu_clean.csv'"
   ]
  },
  {
   "cell_type": "code",
   "execution_count": null,
   "metadata": {},
   "outputs": [],
   "source": [
    "df_copy.to_csv(file)"
   ]
  }
 ],
 "metadata": {
  "kernelspec": {
   "display_name": "Python 2",
   "language": "python",
   "name": "python2"
  },
  "language_info": {
   "codemirror_mode": {
    "name": "ipython",
    "version": 2
   },
   "file_extension": ".py",
   "mimetype": "text/x-python",
   "name": "python",
   "nbconvert_exporter": "python",
   "pygments_lexer": "ipython2",
   "version": "2.7.16"
  }
 },
 "nbformat": 4,
 "nbformat_minor": 2
}
